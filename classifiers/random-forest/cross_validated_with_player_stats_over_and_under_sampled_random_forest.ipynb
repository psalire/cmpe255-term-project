{
 "cells": [
  {
   "cell_type": "code",
   "execution_count": 3,
   "metadata": {},
   "outputs": [],
   "source": [
    "import numpy as np\n",
    "import pandas as pd\n",
    "import matplotlib.pyplot as plt\n",
    "import sys\n",
    "sys.path.append('../../')\n",
    "from datasets import data as Local ## Local module to get dataframes\n",
    "\n",
    "from sklearn.ensemble import RandomForestClassifier\n",
    "from sklearn.preprocessing import StandardScaler\n",
    "from sklearn.model_selection import GridSearchCV, RandomizedSearchCV\n",
    "from sklearn.model_selection import train_test_split"
   ]
  },
  {
   "cell_type": "code",
   "execution_count": 4,
   "metadata": {},
   "outputs": [],
   "source": [
    "pd.set_option('display.max_columns', None)"
   ]
  },
  {
   "cell_type": "code",
   "execution_count": 5,
   "metadata": {},
   "outputs": [],
   "source": [
    "games_df, winners_df, greater_fgp_df, greater_fg3_df, greater_ft_df, greater_ast_df, greater_reb_df, cumulative_stats_df, games_details_df, teams_df, players_df, ranking_df = \\\n",
    "    Local.get_all_dataset_dataframes('../../datasets/')"
   ]
  },
  {
   "cell_type": "code",
   "execution_count": 6,
   "metadata": {},
   "outputs": [],
   "source": [
    "cumulative_player_stats_df = Local.get_cumulative_player_stats_dataframe('../../datasets/')"
   ]
  },
  {
   "cell_type": "markdown",
   "metadata": {},
   "source": [
    "# Target datasets"
   ]
  },
  {
   "cell_type": "markdown",
   "metadata": {},
   "source": [
    "- Home has:\n",
    "    - 59.1% Winrate\n",
    "    - 55.0% Rate of Higher FGP\n",
    "    - 50.8% Rate of Higher FG3\n",
    "    - 49.5% Rate of Higher FTP\n",
    "    - 55.0% Rate of Higher AST\n",
    "    - 53.4% Rate of Higher REB"
   ]
  },
  {
   "cell_type": "code",
   "execution_count": 7,
   "metadata": {},
   "outputs": [
    {
     "data": {
      "text/plain": [
       "16157    1\n",
       "16156    1\n",
       "16155    1\n",
       "16154    1\n",
       "16153    1\n",
       "        ..\n",
       "4        0\n",
       "3        0\n",
       "2        0\n",
       "1        1\n",
       "0        1\n",
       "Name: HOME_TEAM_WINS, Length: 23520, dtype: int64"
      ]
     },
     "execution_count": 7,
     "metadata": {},
     "output_type": "execute_result"
    }
   ],
   "source": [
    "winners_df # Whether the home team won in a game in each row of `games_df`"
   ]
  },
  {
   "cell_type": "code",
   "execution_count": 8,
   "metadata": {},
   "outputs": [
    {
     "data": {
      "text/plain": [
       "count    23520.000000\n",
       "mean         0.591029\n",
       "std          0.491654\n",
       "min          0.000000\n",
       "25%          0.000000\n",
       "50%          1.000000\n",
       "75%          1.000000\n",
       "max          1.000000\n",
       "Name: HOME_TEAM_WINS, dtype: float64"
      ]
     },
     "execution_count": 8,
     "metadata": {},
     "output_type": "execute_result"
    }
   ],
   "source": [
    "winners_df.describe()"
   ]
  },
  {
   "cell_type": "code",
   "execution_count": 9,
   "metadata": {},
   "outputs": [
    {
     "data": {
      "text/plain": [
       "count    23520.000000\n",
       "mean         0.550468\n",
       "std          0.497457\n",
       "min          0.000000\n",
       "25%          0.000000\n",
       "50%          1.000000\n",
       "75%          1.000000\n",
       "max          1.000000\n",
       "Name: HOME_HIGHER_FG_PCT, dtype: float64"
      ]
     },
     "execution_count": 9,
     "metadata": {},
     "output_type": "execute_result"
    }
   ],
   "source": [
    "greater_fgp_df.describe()"
   ]
  },
  {
   "cell_type": "code",
   "execution_count": 10,
   "metadata": {},
   "outputs": [
    {
     "data": {
      "text/plain": [
       "count    23520.000000\n",
       "mean         0.507993\n",
       "std          0.499947\n",
       "min          0.000000\n",
       "25%          0.000000\n",
       "50%          1.000000\n",
       "75%          1.000000\n",
       "max          1.000000\n",
       "Name: HOME_HIGHER_FG3_PCT, dtype: float64"
      ]
     },
     "execution_count": 10,
     "metadata": {},
     "output_type": "execute_result"
    }
   ],
   "source": [
    "greater_fg3_df.describe()"
   ]
  },
  {
   "cell_type": "code",
   "execution_count": 11,
   "metadata": {},
   "outputs": [
    {
     "data": {
      "text/plain": [
       "count    23520.000000\n",
       "mean         0.494855\n",
       "std          0.499984\n",
       "min          0.000000\n",
       "25%          0.000000\n",
       "50%          0.000000\n",
       "75%          1.000000\n",
       "max          1.000000\n",
       "Name: HOME_HIGHER_FT_PCT, dtype: float64"
      ]
     },
     "execution_count": 11,
     "metadata": {},
     "output_type": "execute_result"
    }
   ],
   "source": [
    "greater_ft_df.describe()"
   ]
  },
  {
   "cell_type": "code",
   "execution_count": 12,
   "metadata": {},
   "outputs": [
    {
     "data": {
      "text/plain": [
       "count    23520.000000\n",
       "mean         0.550128\n",
       "std          0.497491\n",
       "min          0.000000\n",
       "25%          0.000000\n",
       "50%          1.000000\n",
       "75%          1.000000\n",
       "max          1.000000\n",
       "Name: HOME_HIGHER_AST, dtype: float64"
      ]
     },
     "execution_count": 12,
     "metadata": {},
     "output_type": "execute_result"
    }
   ],
   "source": [
    "greater_ast_df.describe()"
   ]
  },
  {
   "cell_type": "code",
   "execution_count": 13,
   "metadata": {},
   "outputs": [
    {
     "data": {
      "text/plain": [
       "count    23520.000000\n",
       "mean         0.533886\n",
       "std          0.498861\n",
       "min          0.000000\n",
       "25%          0.000000\n",
       "50%          1.000000\n",
       "75%          1.000000\n",
       "max          1.000000\n",
       "Name: HOME_HIGHER_REB, dtype: float64"
      ]
     },
     "execution_count": 13,
     "metadata": {},
     "output_type": "execute_result"
    }
   ],
   "source": [
    "greater_reb_df.describe()"
   ]
  },
  {
   "cell_type": "markdown",
   "metadata": {},
   "source": [
    "# Datasets"
   ]
  },
  {
   "cell_type": "code",
   "execution_count": 14,
   "metadata": {},
   "outputs": [
    {
     "data": {
      "text/html": [
       "<div>\n",
       "<style scoped>\n",
       "    .dataframe tbody tr th:only-of-type {\n",
       "        vertical-align: middle;\n",
       "    }\n",
       "\n",
       "    .dataframe tbody tr th {\n",
       "        vertical-align: top;\n",
       "    }\n",
       "\n",
       "    .dataframe thead th {\n",
       "        text-align: right;\n",
       "    }\n",
       "</style>\n",
       "<table border=\"1\" class=\"dataframe\">\n",
       "  <thead>\n",
       "    <tr style=\"text-align: right;\">\n",
       "      <th></th>\n",
       "      <th>GAME_DATE_EST</th>\n",
       "      <th>GAME_ID</th>\n",
       "      <th>HOME_TEAM_ID</th>\n",
       "      <th>VISITOR_TEAM_ID</th>\n",
       "      <th>SEASON</th>\n",
       "      <th>PTS_home</th>\n",
       "      <th>FG_PCT_home</th>\n",
       "      <th>FT_PCT_home</th>\n",
       "      <th>FG3_PCT_home</th>\n",
       "      <th>AST_home</th>\n",
       "      <th>REB_home</th>\n",
       "      <th>PTS_away</th>\n",
       "      <th>FG_PCT_away</th>\n",
       "      <th>FT_PCT_away</th>\n",
       "      <th>FG3_PCT_away</th>\n",
       "      <th>AST_away</th>\n",
       "      <th>REB_away</th>\n",
       "    </tr>\n",
       "  </thead>\n",
       "  <tbody>\n",
       "    <tr>\n",
       "      <th>16157</th>\n",
       "      <td>2003-10-05</td>\n",
       "      <td>10300001</td>\n",
       "      <td>1610612762</td>\n",
       "      <td>1610612742</td>\n",
       "      <td>2003</td>\n",
       "      <td>90.0</td>\n",
       "      <td>0.457</td>\n",
       "      <td>0.735</td>\n",
       "      <td>0.143</td>\n",
       "      <td>23.0</td>\n",
       "      <td>41.0</td>\n",
       "      <td>85.0</td>\n",
       "      <td>0.447</td>\n",
       "      <td>0.500</td>\n",
       "      <td>0.250</td>\n",
       "      <td>20.0</td>\n",
       "      <td>38.0</td>\n",
       "    </tr>\n",
       "    <tr>\n",
       "      <th>16156</th>\n",
       "      <td>2003-10-06</td>\n",
       "      <td>10300002</td>\n",
       "      <td>1610612763</td>\n",
       "      <td>1610612749</td>\n",
       "      <td>2003</td>\n",
       "      <td>105.0</td>\n",
       "      <td>0.494</td>\n",
       "      <td>0.618</td>\n",
       "      <td>0.267</td>\n",
       "      <td>25.0</td>\n",
       "      <td>48.0</td>\n",
       "      <td>94.0</td>\n",
       "      <td>0.427</td>\n",
       "      <td>0.700</td>\n",
       "      <td>0.154</td>\n",
       "      <td>20.0</td>\n",
       "      <td>43.0</td>\n",
       "    </tr>\n",
       "    <tr>\n",
       "      <th>16155</th>\n",
       "      <td>2003-10-07</td>\n",
       "      <td>10300009</td>\n",
       "      <td>1610612758</td>\n",
       "      <td>1610612746</td>\n",
       "      <td>2003</td>\n",
       "      <td>101.0</td>\n",
       "      <td>0.467</td>\n",
       "      <td>0.871</td>\n",
       "      <td>0.444</td>\n",
       "      <td>19.0</td>\n",
       "      <td>39.0</td>\n",
       "      <td>82.0</td>\n",
       "      <td>0.368</td>\n",
       "      <td>0.609</td>\n",
       "      <td>0.364</td>\n",
       "      <td>13.0</td>\n",
       "      <td>50.0</td>\n",
       "    </tr>\n",
       "    <tr>\n",
       "      <th>16154</th>\n",
       "      <td>2003-10-07</td>\n",
       "      <td>10300005</td>\n",
       "      <td>1610612757</td>\n",
       "      <td>1610612745</td>\n",
       "      <td>2003</td>\n",
       "      <td>104.0</td>\n",
       "      <td>0.527</td>\n",
       "      <td>0.657</td>\n",
       "      <td>0.429</td>\n",
       "      <td>22.0</td>\n",
       "      <td>33.0</td>\n",
       "      <td>80.0</td>\n",
       "      <td>0.470</td>\n",
       "      <td>0.667</td>\n",
       "      <td>0.333</td>\n",
       "      <td>10.0</td>\n",
       "      <td>37.0</td>\n",
       "    </tr>\n",
       "    <tr>\n",
       "      <th>16153</th>\n",
       "      <td>2003-10-07</td>\n",
       "      <td>10300007</td>\n",
       "      <td>1610612748</td>\n",
       "      <td>1610612755</td>\n",
       "      <td>2003</td>\n",
       "      <td>86.0</td>\n",
       "      <td>0.352</td>\n",
       "      <td>0.647</td>\n",
       "      <td>0.222</td>\n",
       "      <td>15.0</td>\n",
       "      <td>55.0</td>\n",
       "      <td>79.0</td>\n",
       "      <td>0.329</td>\n",
       "      <td>0.897</td>\n",
       "      <td>0.143</td>\n",
       "      <td>7.0</td>\n",
       "      <td>44.0</td>\n",
       "    </tr>\n",
       "    <tr>\n",
       "      <th>...</th>\n",
       "      <td>...</td>\n",
       "      <td>...</td>\n",
       "      <td>...</td>\n",
       "      <td>...</td>\n",
       "      <td>...</td>\n",
       "      <td>...</td>\n",
       "      <td>...</td>\n",
       "      <td>...</td>\n",
       "      <td>...</td>\n",
       "      <td>...</td>\n",
       "      <td>...</td>\n",
       "      <td>...</td>\n",
       "      <td>...</td>\n",
       "      <td>...</td>\n",
       "      <td>...</td>\n",
       "      <td>...</td>\n",
       "      <td>...</td>\n",
       "    </tr>\n",
       "    <tr>\n",
       "      <th>4</th>\n",
       "      <td>2020-12-18</td>\n",
       "      <td>12000040</td>\n",
       "      <td>1610612761</td>\n",
       "      <td>1610612748</td>\n",
       "      <td>2020</td>\n",
       "      <td>105.0</td>\n",
       "      <td>0.380</td>\n",
       "      <td>0.737</td>\n",
       "      <td>0.356</td>\n",
       "      <td>27.0</td>\n",
       "      <td>37.0</td>\n",
       "      <td>117.0</td>\n",
       "      <td>0.534</td>\n",
       "      <td>0.741</td>\n",
       "      <td>0.514</td>\n",
       "      <td>30.0</td>\n",
       "      <td>51.0</td>\n",
       "    </tr>\n",
       "    <tr>\n",
       "      <th>3</th>\n",
       "      <td>2020-12-18</td>\n",
       "      <td>12000039</td>\n",
       "      <td>1610612754</td>\n",
       "      <td>1610612755</td>\n",
       "      <td>2020</td>\n",
       "      <td>107.0</td>\n",
       "      <td>0.371</td>\n",
       "      <td>0.692</td>\n",
       "      <td>0.262</td>\n",
       "      <td>19.0</td>\n",
       "      <td>45.0</td>\n",
       "      <td>113.0</td>\n",
       "      <td>0.533</td>\n",
       "      <td>0.629</td>\n",
       "      <td>0.355</td>\n",
       "      <td>23.0</td>\n",
       "      <td>48.0</td>\n",
       "    </tr>\n",
       "    <tr>\n",
       "      <th>2</th>\n",
       "      <td>2020-12-19</td>\n",
       "      <td>12000049</td>\n",
       "      <td>1610612763</td>\n",
       "      <td>1610612737</td>\n",
       "      <td>2020</td>\n",
       "      <td>116.0</td>\n",
       "      <td>0.400</td>\n",
       "      <td>0.744</td>\n",
       "      <td>0.396</td>\n",
       "      <td>21.0</td>\n",
       "      <td>43.0</td>\n",
       "      <td>117.0</td>\n",
       "      <td>0.422</td>\n",
       "      <td>0.837</td>\n",
       "      <td>0.297</td>\n",
       "      <td>24.0</td>\n",
       "      <td>47.0</td>\n",
       "    </tr>\n",
       "    <tr>\n",
       "      <th>1</th>\n",
       "      <td>2020-12-19</td>\n",
       "      <td>12000048</td>\n",
       "      <td>1610612764</td>\n",
       "      <td>1610612765</td>\n",
       "      <td>2020</td>\n",
       "      <td>99.0</td>\n",
       "      <td>0.427</td>\n",
       "      <td>0.625</td>\n",
       "      <td>0.295</td>\n",
       "      <td>24.0</td>\n",
       "      <td>45.0</td>\n",
       "      <td>96.0</td>\n",
       "      <td>0.402</td>\n",
       "      <td>0.647</td>\n",
       "      <td>0.326</td>\n",
       "      <td>18.0</td>\n",
       "      <td>51.0</td>\n",
       "    </tr>\n",
       "    <tr>\n",
       "      <th>0</th>\n",
       "      <td>2020-12-19</td>\n",
       "      <td>12000047</td>\n",
       "      <td>1610612753</td>\n",
       "      <td>1610612766</td>\n",
       "      <td>2020</td>\n",
       "      <td>120.0</td>\n",
       "      <td>0.433</td>\n",
       "      <td>0.792</td>\n",
       "      <td>0.425</td>\n",
       "      <td>23.0</td>\n",
       "      <td>50.0</td>\n",
       "      <td>117.0</td>\n",
       "      <td>0.444</td>\n",
       "      <td>0.864</td>\n",
       "      <td>0.439</td>\n",
       "      <td>21.0</td>\n",
       "      <td>52.0</td>\n",
       "    </tr>\n",
       "  </tbody>\n",
       "</table>\n",
       "<p>23520 rows × 17 columns</p>\n",
       "</div>"
      ],
      "text/plain": [
       "      GAME_DATE_EST   GAME_ID  HOME_TEAM_ID  VISITOR_TEAM_ID  SEASON  \\\n",
       "16157    2003-10-05  10300001    1610612762       1610612742    2003   \n",
       "16156    2003-10-06  10300002    1610612763       1610612749    2003   \n",
       "16155    2003-10-07  10300009    1610612758       1610612746    2003   \n",
       "16154    2003-10-07  10300005    1610612757       1610612745    2003   \n",
       "16153    2003-10-07  10300007    1610612748       1610612755    2003   \n",
       "...             ...       ...           ...              ...     ...   \n",
       "4        2020-12-18  12000040    1610612761       1610612748    2020   \n",
       "3        2020-12-18  12000039    1610612754       1610612755    2020   \n",
       "2        2020-12-19  12000049    1610612763       1610612737    2020   \n",
       "1        2020-12-19  12000048    1610612764       1610612765    2020   \n",
       "0        2020-12-19  12000047    1610612753       1610612766    2020   \n",
       "\n",
       "       PTS_home  FG_PCT_home  FT_PCT_home  FG3_PCT_home  AST_home  REB_home  \\\n",
       "16157      90.0        0.457        0.735         0.143      23.0      41.0   \n",
       "16156     105.0        0.494        0.618         0.267      25.0      48.0   \n",
       "16155     101.0        0.467        0.871         0.444      19.0      39.0   \n",
       "16154     104.0        0.527        0.657         0.429      22.0      33.0   \n",
       "16153      86.0        0.352        0.647         0.222      15.0      55.0   \n",
       "...         ...          ...          ...           ...       ...       ...   \n",
       "4         105.0        0.380        0.737         0.356      27.0      37.0   \n",
       "3         107.0        0.371        0.692         0.262      19.0      45.0   \n",
       "2         116.0        0.400        0.744         0.396      21.0      43.0   \n",
       "1          99.0        0.427        0.625         0.295      24.0      45.0   \n",
       "0         120.0        0.433        0.792         0.425      23.0      50.0   \n",
       "\n",
       "       PTS_away  FG_PCT_away  FT_PCT_away  FG3_PCT_away  AST_away  REB_away  \n",
       "16157      85.0        0.447        0.500         0.250      20.0      38.0  \n",
       "16156      94.0        0.427        0.700         0.154      20.0      43.0  \n",
       "16155      82.0        0.368        0.609         0.364      13.0      50.0  \n",
       "16154      80.0        0.470        0.667         0.333      10.0      37.0  \n",
       "16153      79.0        0.329        0.897         0.143       7.0      44.0  \n",
       "...         ...          ...          ...           ...       ...       ...  \n",
       "4         117.0        0.534        0.741         0.514      30.0      51.0  \n",
       "3         113.0        0.533        0.629         0.355      23.0      48.0  \n",
       "2         117.0        0.422        0.837         0.297      24.0      47.0  \n",
       "1          96.0        0.402        0.647         0.326      18.0      51.0  \n",
       "0         117.0        0.444        0.864         0.439      21.0      52.0  \n",
       "\n",
       "[23520 rows x 17 columns]"
      ]
     },
     "execution_count": 14,
     "metadata": {},
     "output_type": "execute_result"
    }
   ],
   "source": [
    "games_df"
   ]
  },
  {
   "cell_type": "code",
   "execution_count": 15,
   "metadata": {},
   "outputs": [
    {
     "data": {
      "text/html": [
       "<div>\n",
       "<style scoped>\n",
       "    .dataframe tbody tr th:only-of-type {\n",
       "        vertical-align: middle;\n",
       "    }\n",
       "\n",
       "    .dataframe tbody tr th {\n",
       "        vertical-align: top;\n",
       "    }\n",
       "\n",
       "    .dataframe thead th {\n",
       "        text-align: right;\n",
       "    }\n",
       "</style>\n",
       "<table border=\"1\" class=\"dataframe\">\n",
       "  <thead>\n",
       "    <tr style=\"text-align: right;\">\n",
       "      <th></th>\n",
       "      <th>DATE</th>\n",
       "      <th>GAME_ID</th>\n",
       "      <th>SEASON_TYPE</th>\n",
       "      <th>SEASON</th>\n",
       "      <th>GAMES_PLAYED_home</th>\n",
       "      <th>GAMES_PLAYED_away</th>\n",
       "      <th>PPG_total_home</th>\n",
       "      <th>FG_PCT_total_home</th>\n",
       "      <th>FG3_PCT_total_home</th>\n",
       "      <th>FT_PCT_total_home</th>\n",
       "      <th>APG_total_home</th>\n",
       "      <th>RPG_total_home</th>\n",
       "      <th>PPG_total_away</th>\n",
       "      <th>FG_PCT_total_away</th>\n",
       "      <th>FG3_PCT_total_away</th>\n",
       "      <th>FT_PCT_total_away</th>\n",
       "      <th>APG_total_away</th>\n",
       "      <th>RPG_total_away</th>\n",
       "      <th>TEAM_ID_away</th>\n",
       "      <th>TEAM_ID_home</th>\n",
       "      <th>W_PCT_away</th>\n",
       "      <th>W_PCT_home</th>\n",
       "    </tr>\n",
       "  </thead>\n",
       "  <tbody>\n",
       "    <tr>\n",
       "      <th>0</th>\n",
       "      <td>2003-10-05</td>\n",
       "      <td>10300001</td>\n",
       "      <td>1</td>\n",
       "      <td>2003</td>\n",
       "      <td>0</td>\n",
       "      <td>0</td>\n",
       "      <td>0.000000</td>\n",
       "      <td>0.000000</td>\n",
       "      <td>0.000000</td>\n",
       "      <td>0.000000</td>\n",
       "      <td>0.000000</td>\n",
       "      <td>0.000000</td>\n",
       "      <td>0.000000</td>\n",
       "      <td>0.000000</td>\n",
       "      <td>0.000000</td>\n",
       "      <td>0.000000</td>\n",
       "      <td>0.000000</td>\n",
       "      <td>0.000000</td>\n",
       "      <td>1.610613e+09</td>\n",
       "      <td>1.610613e+09</td>\n",
       "      <td>0.000000</td>\n",
       "      <td>0.000000</td>\n",
       "    </tr>\n",
       "    <tr>\n",
       "      <th>1</th>\n",
       "      <td>2003-10-06</td>\n",
       "      <td>10300002</td>\n",
       "      <td>1</td>\n",
       "      <td>2003</td>\n",
       "      <td>0</td>\n",
       "      <td>0</td>\n",
       "      <td>0.000000</td>\n",
       "      <td>0.000000</td>\n",
       "      <td>0.000000</td>\n",
       "      <td>0.000000</td>\n",
       "      <td>0.000000</td>\n",
       "      <td>0.000000</td>\n",
       "      <td>0.000000</td>\n",
       "      <td>0.000000</td>\n",
       "      <td>0.000000</td>\n",
       "      <td>0.000000</td>\n",
       "      <td>0.000000</td>\n",
       "      <td>0.000000</td>\n",
       "      <td>1.610613e+09</td>\n",
       "      <td>1.610613e+09</td>\n",
       "      <td>0.000000</td>\n",
       "      <td>0.000000</td>\n",
       "    </tr>\n",
       "    <tr>\n",
       "      <th>2</th>\n",
       "      <td>2003-10-07</td>\n",
       "      <td>10300009</td>\n",
       "      <td>1</td>\n",
       "      <td>2003</td>\n",
       "      <td>0</td>\n",
       "      <td>0</td>\n",
       "      <td>0.000000</td>\n",
       "      <td>0.000000</td>\n",
       "      <td>0.000000</td>\n",
       "      <td>0.000000</td>\n",
       "      <td>0.000000</td>\n",
       "      <td>0.000000</td>\n",
       "      <td>0.000000</td>\n",
       "      <td>0.000000</td>\n",
       "      <td>0.000000</td>\n",
       "      <td>0.000000</td>\n",
       "      <td>0.000000</td>\n",
       "      <td>0.000000</td>\n",
       "      <td>1.610613e+09</td>\n",
       "      <td>1.610613e+09</td>\n",
       "      <td>0.000000</td>\n",
       "      <td>0.000000</td>\n",
       "    </tr>\n",
       "    <tr>\n",
       "      <th>3</th>\n",
       "      <td>2003-10-07</td>\n",
       "      <td>10300005</td>\n",
       "      <td>1</td>\n",
       "      <td>2003</td>\n",
       "      <td>0</td>\n",
       "      <td>0</td>\n",
       "      <td>0.000000</td>\n",
       "      <td>0.000000</td>\n",
       "      <td>0.000000</td>\n",
       "      <td>0.000000</td>\n",
       "      <td>0.000000</td>\n",
       "      <td>0.000000</td>\n",
       "      <td>0.000000</td>\n",
       "      <td>0.000000</td>\n",
       "      <td>0.000000</td>\n",
       "      <td>0.000000</td>\n",
       "      <td>0.000000</td>\n",
       "      <td>0.000000</td>\n",
       "      <td>1.610613e+09</td>\n",
       "      <td>1.610613e+09</td>\n",
       "      <td>0.000000</td>\n",
       "      <td>0.000000</td>\n",
       "    </tr>\n",
       "    <tr>\n",
       "      <th>4</th>\n",
       "      <td>2003-10-07</td>\n",
       "      <td>10300007</td>\n",
       "      <td>1</td>\n",
       "      <td>2003</td>\n",
       "      <td>0</td>\n",
       "      <td>0</td>\n",
       "      <td>0.000000</td>\n",
       "      <td>0.000000</td>\n",
       "      <td>0.000000</td>\n",
       "      <td>0.000000</td>\n",
       "      <td>0.000000</td>\n",
       "      <td>0.000000</td>\n",
       "      <td>0.000000</td>\n",
       "      <td>0.000000</td>\n",
       "      <td>0.000000</td>\n",
       "      <td>0.000000</td>\n",
       "      <td>0.000000</td>\n",
       "      <td>0.000000</td>\n",
       "      <td>1.610613e+09</td>\n",
       "      <td>1.610613e+09</td>\n",
       "      <td>0.000000</td>\n",
       "      <td>0.000000</td>\n",
       "    </tr>\n",
       "    <tr>\n",
       "      <th>...</th>\n",
       "      <td>...</td>\n",
       "      <td>...</td>\n",
       "      <td>...</td>\n",
       "      <td>...</td>\n",
       "      <td>...</td>\n",
       "      <td>...</td>\n",
       "      <td>...</td>\n",
       "      <td>...</td>\n",
       "      <td>...</td>\n",
       "      <td>...</td>\n",
       "      <td>...</td>\n",
       "      <td>...</td>\n",
       "      <td>...</td>\n",
       "      <td>...</td>\n",
       "      <td>...</td>\n",
       "      <td>...</td>\n",
       "      <td>...</td>\n",
       "      <td>...</td>\n",
       "      <td>...</td>\n",
       "      <td>...</td>\n",
       "      <td>...</td>\n",
       "      <td>...</td>\n",
       "    </tr>\n",
       "    <tr>\n",
       "      <th>23515</th>\n",
       "      <td>2020-12-18</td>\n",
       "      <td>12000040</td>\n",
       "      <td>1</td>\n",
       "      <td>2020</td>\n",
       "      <td>2</td>\n",
       "      <td>1</td>\n",
       "      <td>111.500000</td>\n",
       "      <td>0.443500</td>\n",
       "      <td>0.353000</td>\n",
       "      <td>0.691000</td>\n",
       "      <td>25.000000</td>\n",
       "      <td>41.500000</td>\n",
       "      <td>92.000000</td>\n",
       "      <td>0.427000</td>\n",
       "      <td>0.283000</td>\n",
       "      <td>0.818000</td>\n",
       "      <td>26.000000</td>\n",
       "      <td>35.000000</td>\n",
       "      <td>1.610613e+09</td>\n",
       "      <td>1.610613e+09</td>\n",
       "      <td>0.000000</td>\n",
       "      <td>1.000000</td>\n",
       "    </tr>\n",
       "    <tr>\n",
       "      <th>23516</th>\n",
       "      <td>2020-12-18</td>\n",
       "      <td>12000039</td>\n",
       "      <td>1</td>\n",
       "      <td>2020</td>\n",
       "      <td>2</td>\n",
       "      <td>1</td>\n",
       "      <td>105.000000</td>\n",
       "      <td>0.438000</td>\n",
       "      <td>0.383000</td>\n",
       "      <td>0.619000</td>\n",
       "      <td>26.000000</td>\n",
       "      <td>35.500000</td>\n",
       "      <td>108.000000</td>\n",
       "      <td>0.471000</td>\n",
       "      <td>0.241000</td>\n",
       "      <td>0.750000</td>\n",
       "      <td>23.000000</td>\n",
       "      <td>42.000000</td>\n",
       "      <td>1.610613e+09</td>\n",
       "      <td>1.610613e+09</td>\n",
       "      <td>1.000000</td>\n",
       "      <td>0.000000</td>\n",
       "    </tr>\n",
       "    <tr>\n",
       "      <th>23517</th>\n",
       "      <td>2020-12-19</td>\n",
       "      <td>12000049</td>\n",
       "      <td>1</td>\n",
       "      <td>2020</td>\n",
       "      <td>3</td>\n",
       "      <td>3</td>\n",
       "      <td>119.333333</td>\n",
       "      <td>0.466667</td>\n",
       "      <td>0.329333</td>\n",
       "      <td>0.704667</td>\n",
       "      <td>30.666667</td>\n",
       "      <td>52.666667</td>\n",
       "      <td>111.333333</td>\n",
       "      <td>0.392667</td>\n",
       "      <td>0.332333</td>\n",
       "      <td>0.789667</td>\n",
       "      <td>24.000000</td>\n",
       "      <td>56.000000</td>\n",
       "      <td>1.610613e+09</td>\n",
       "      <td>1.610613e+09</td>\n",
       "      <td>0.333333</td>\n",
       "      <td>1.000000</td>\n",
       "    </tr>\n",
       "    <tr>\n",
       "      <th>23518</th>\n",
       "      <td>2020-12-19</td>\n",
       "      <td>12000048</td>\n",
       "      <td>1</td>\n",
       "      <td>2020</td>\n",
       "      <td>2</td>\n",
       "      <td>3</td>\n",
       "      <td>100.000000</td>\n",
       "      <td>0.415000</td>\n",
       "      <td>0.321500</td>\n",
       "      <td>0.704500</td>\n",
       "      <td>22.000000</td>\n",
       "      <td>44.500000</td>\n",
       "      <td>93.333333</td>\n",
       "      <td>0.413333</td>\n",
       "      <td>0.333000</td>\n",
       "      <td>0.713000</td>\n",
       "      <td>20.000000</td>\n",
       "      <td>41.666667</td>\n",
       "      <td>1.610613e+09</td>\n",
       "      <td>1.610613e+09</td>\n",
       "      <td>0.666667</td>\n",
       "      <td>0.000000</td>\n",
       "    </tr>\n",
       "    <tr>\n",
       "      <th>23519</th>\n",
       "      <td>2020-12-19</td>\n",
       "      <td>12000047</td>\n",
       "      <td>1</td>\n",
       "      <td>2020</td>\n",
       "      <td>3</td>\n",
       "      <td>3</td>\n",
       "      <td>112.666667</td>\n",
       "      <td>0.444333</td>\n",
       "      <td>0.305333</td>\n",
       "      <td>0.758000</td>\n",
       "      <td>25.000000</td>\n",
       "      <td>51.333333</td>\n",
       "      <td>110.666667</td>\n",
       "      <td>0.442333</td>\n",
       "      <td>0.372333</td>\n",
       "      <td>0.751000</td>\n",
       "      <td>29.666667</td>\n",
       "      <td>45.000000</td>\n",
       "      <td>1.610613e+09</td>\n",
       "      <td>1.610613e+09</td>\n",
       "      <td>0.333333</td>\n",
       "      <td>0.333333</td>\n",
       "    </tr>\n",
       "  </tbody>\n",
       "</table>\n",
       "<p>23520 rows × 22 columns</p>\n",
       "</div>"
      ],
      "text/plain": [
       "             DATE   GAME_ID  SEASON_TYPE  SEASON  GAMES_PLAYED_home  \\\n",
       "0      2003-10-05  10300001            1    2003                  0   \n",
       "1      2003-10-06  10300002            1    2003                  0   \n",
       "2      2003-10-07  10300009            1    2003                  0   \n",
       "3      2003-10-07  10300005            1    2003                  0   \n",
       "4      2003-10-07  10300007            1    2003                  0   \n",
       "...           ...       ...          ...     ...                ...   \n",
       "23515  2020-12-18  12000040            1    2020                  2   \n",
       "23516  2020-12-18  12000039            1    2020                  2   \n",
       "23517  2020-12-19  12000049            1    2020                  3   \n",
       "23518  2020-12-19  12000048            1    2020                  2   \n",
       "23519  2020-12-19  12000047            1    2020                  3   \n",
       "\n",
       "       GAMES_PLAYED_away  PPG_total_home  FG_PCT_total_home  \\\n",
       "0                      0        0.000000           0.000000   \n",
       "1                      0        0.000000           0.000000   \n",
       "2                      0        0.000000           0.000000   \n",
       "3                      0        0.000000           0.000000   \n",
       "4                      0        0.000000           0.000000   \n",
       "...                  ...             ...                ...   \n",
       "23515                  1      111.500000           0.443500   \n",
       "23516                  1      105.000000           0.438000   \n",
       "23517                  3      119.333333           0.466667   \n",
       "23518                  3      100.000000           0.415000   \n",
       "23519                  3      112.666667           0.444333   \n",
       "\n",
       "       FG3_PCT_total_home  FT_PCT_total_home  APG_total_home  RPG_total_home  \\\n",
       "0                0.000000           0.000000        0.000000        0.000000   \n",
       "1                0.000000           0.000000        0.000000        0.000000   \n",
       "2                0.000000           0.000000        0.000000        0.000000   \n",
       "3                0.000000           0.000000        0.000000        0.000000   \n",
       "4                0.000000           0.000000        0.000000        0.000000   \n",
       "...                   ...                ...             ...             ...   \n",
       "23515            0.353000           0.691000       25.000000       41.500000   \n",
       "23516            0.383000           0.619000       26.000000       35.500000   \n",
       "23517            0.329333           0.704667       30.666667       52.666667   \n",
       "23518            0.321500           0.704500       22.000000       44.500000   \n",
       "23519            0.305333           0.758000       25.000000       51.333333   \n",
       "\n",
       "       PPG_total_away  FG_PCT_total_away  FG3_PCT_total_away  \\\n",
       "0            0.000000           0.000000            0.000000   \n",
       "1            0.000000           0.000000            0.000000   \n",
       "2            0.000000           0.000000            0.000000   \n",
       "3            0.000000           0.000000            0.000000   \n",
       "4            0.000000           0.000000            0.000000   \n",
       "...               ...                ...                 ...   \n",
       "23515       92.000000           0.427000            0.283000   \n",
       "23516      108.000000           0.471000            0.241000   \n",
       "23517      111.333333           0.392667            0.332333   \n",
       "23518       93.333333           0.413333            0.333000   \n",
       "23519      110.666667           0.442333            0.372333   \n",
       "\n",
       "       FT_PCT_total_away  APG_total_away  RPG_total_away  TEAM_ID_away  \\\n",
       "0               0.000000        0.000000        0.000000  1.610613e+09   \n",
       "1               0.000000        0.000000        0.000000  1.610613e+09   \n",
       "2               0.000000        0.000000        0.000000  1.610613e+09   \n",
       "3               0.000000        0.000000        0.000000  1.610613e+09   \n",
       "4               0.000000        0.000000        0.000000  1.610613e+09   \n",
       "...                  ...             ...             ...           ...   \n",
       "23515           0.818000       26.000000       35.000000  1.610613e+09   \n",
       "23516           0.750000       23.000000       42.000000  1.610613e+09   \n",
       "23517           0.789667       24.000000       56.000000  1.610613e+09   \n",
       "23518           0.713000       20.000000       41.666667  1.610613e+09   \n",
       "23519           0.751000       29.666667       45.000000  1.610613e+09   \n",
       "\n",
       "       TEAM_ID_home  W_PCT_away  W_PCT_home  \n",
       "0      1.610613e+09    0.000000    0.000000  \n",
       "1      1.610613e+09    0.000000    0.000000  \n",
       "2      1.610613e+09    0.000000    0.000000  \n",
       "3      1.610613e+09    0.000000    0.000000  \n",
       "4      1.610613e+09    0.000000    0.000000  \n",
       "...             ...         ...         ...  \n",
       "23515  1.610613e+09    0.000000    1.000000  \n",
       "23516  1.610613e+09    1.000000    0.000000  \n",
       "23517  1.610613e+09    0.333333    1.000000  \n",
       "23518  1.610613e+09    0.666667    0.000000  \n",
       "23519  1.610613e+09    0.333333    0.333333  \n",
       "\n",
       "[23520 rows x 22 columns]"
      ]
     },
     "execution_count": 15,
     "metadata": {},
     "output_type": "execute_result"
    }
   ],
   "source": [
    "cumulative_stats_df"
   ]
  },
  {
   "cell_type": "markdown",
   "metadata": {},
   "source": [
    "## Add PCA of Player Stats column"
   ]
  },
  {
   "cell_type": "code",
   "execution_count": 16,
   "metadata": {},
   "outputs": [],
   "source": [
    "from sklearn.decomposition import PCA\n",
    "from sklearn.preprocessing import StandardScaler"
   ]
  },
  {
   "cell_type": "code",
   "execution_count": 17,
   "metadata": {},
   "outputs": [],
   "source": [
    "cumulative_stats_df.insert(len(cumulative_stats_df.columns), 'PLAYER_RANKING_home', np.nan)\n",
    "cumulative_stats_df.insert(len(cumulative_stats_df.columns), 'PLAYER_RANKING_away', np.nan)"
   ]
  },
  {
   "cell_type": "code",
   "execution_count": null,
   "metadata": {},
   "outputs": [
    {
     "name": "stdout",
     "output_type": "stream",
     "text": [
      "0\n"
     ]
    },
    {
     "name": "stderr",
     "output_type": "stream",
     "text": [
      "C:\\Users\\prabj\\Anaconda3\\lib\\site-packages\\sklearn\\decomposition\\_pca.py:461: RuntimeWarning: invalid value encountered in true_divide\n",
      "  explained_variance_ = (S ** 2) / (n_samples - 1)\n",
      "C:\\Users\\prabj\\Anaconda3\\lib\\site-packages\\sklearn\\decomposition\\_pca.py:461: RuntimeWarning: invalid value encountered in true_divide\n",
      "  explained_variance_ = (S ** 2) / (n_samples - 1)\n"
     ]
    },
    {
     "name": "stdout",
     "output_type": "stream",
     "text": [
      "5000\n",
      "10000\n"
     ]
    }
   ],
   "source": [
    "for i, row in cumulative_stats_df.iterrows():\n",
    "    home_team_player_stats = cumulative_player_stats_df[\n",
    "        (cumulative_player_stats_df['GAME_ID']==row['GAME_ID'])&\n",
    "        (cumulative_player_stats_df['TEAM_ID']==row['TEAM_ID_home'])&\n",
    "        (cumulative_player_stats_df['GAMES_PLAYED']>0)\n",
    "    ][['PPG_total','FG_PCT_total','FG3_PCT_total','SPG_total','APG_total','FT_PCT_total','BPG_total','RPG_total']].dropna()\n",
    "    away_team_player_stats = cumulative_player_stats_df[\n",
    "        (cumulative_player_stats_df['GAME_ID']==row['GAME_ID'])&\n",
    "        (cumulative_player_stats_df['TEAM_ID']==row['TEAM_ID_away'])&\n",
    "        (cumulative_player_stats_df['GAMES_PLAYED']>0)\n",
    "    ][['PPG_total','FG_PCT_total','FG3_PCT_total','SPG_total','APG_total','FT_PCT_total','BPG_total','RPG_total']].dropna()\n",
    "    if len(home_team_player_stats)>0:\n",
    "        pca_1 = PCA(n_components=1)\n",
    "        reduced_home_team_player_stats = pd.DataFrame(pca_1.fit_transform(home_team_player_stats))\n",
    "        cumulative_stats_df['PLAYER_RANKING_home'].iat[i] = reduced_home_team_player_stats.mean()\n",
    "    if len(away_team_player_stats)>0:\n",
    "        pca_1 = PCA(n_components=1)\n",
    "        reduced_away_team_player_stats = pd.DataFrame(pca_1.fit_transform(away_team_player_stats))\n",
    "        cumulative_stats_df['PLAYER_RANKING_away'].iat[i] = reduced_away_team_player_stats.mean()\n",
    "    if i%5000==0:\n",
    "        print(i)"
   ]
  },
  {
   "cell_type": "code",
   "execution_count": null,
   "metadata": {},
   "outputs": [],
   "source": [
    "cumulative_stats_df"
   ]
  },
  {
   "cell_type": "markdown",
   "metadata": {},
   "source": [
    "## Attach target columns to dataset"
   ]
  },
  {
   "cell_type": "code",
   "execution_count": null,
   "metadata": {},
   "outputs": [],
   "source": [
    "cumulative_stats_copy_df = cumulative_stats_df.copy()\n",
    "cumulative_stats_copy_df['home_win'] = winners_df\n",
    "cumulative_stats_copy_df['greater_fgp'] = greater_fgp_df\n",
    "cumulative_stats_copy_df['greater_fg3'] = greater_fg3_df\n",
    "cumulative_stats_copy_df['greater_ft'] = greater_ft_df\n",
    "cumulative_stats_copy_df['greater_ast'] = greater_ast_df\n",
    "cumulative_stats_copy_df['greater_reb'] = greater_reb_df"
   ]
  },
  {
   "cell_type": "markdown",
   "metadata": {},
   "source": [
    "## Remove rows w/o data"
   ]
  },
  {
   "cell_type": "code",
   "execution_count": null,
   "metadata": {},
   "outputs": [],
   "source": [
    "cumulative_stats_copy_df = cumulative_stats_copy_df[(cumulative_stats_copy_df['GAMES_PLAYED_home']>0) & (cumulative_stats_copy_df['GAMES_PLAYED_away']>0)].dropna()\n",
    "\n",
    "# Get new target datasets after row removal\n",
    "winners_df = cumulative_stats_copy_df['home_win']\n",
    "greater_fgp_df = cumulative_stats_copy_df['greater_fgp']\n",
    "greater_fg3_df = cumulative_stats_copy_df['greater_fg3']\n",
    "greater_ft_df = cumulative_stats_copy_df['greater_ft']\n",
    "greater_ast_df = cumulative_stats_copy_df['greater_ast']\n",
    "greater_reb_df = cumulative_stats_copy_df['greater_reb']"
   ]
  },
  {
   "cell_type": "markdown",
   "metadata": {},
   "source": [
    "## Remove non-data"
   ]
  },
  {
   "cell_type": "code",
   "execution_count": null,
   "metadata": {},
   "outputs": [],
   "source": [
    "# Delete non-data\n",
    "for key in [\n",
    "    'DATE','GAME_ID','TEAM_ID_home','TEAM_ID_away','SEASON_TYPE','SEASON','GAMES_PLAYED_home','GAMES_PLAYED_away',\n",
    "    'home_win','greater_fgp','greater_fg3','greater_ft','greater_ast','greater_reb'\n",
    "]:\n",
    "    del cumulative_stats_copy_df[key]\n",
    "# Only look at home teams\n",
    "# cumulative_stats_copy_df = cumulative_stats_copy_df.loc[cumulative_stats_copy_df['AT_HOME']==True]\n",
    "# del cumulative_stats_copy_df['AT_HOME']\n",
    "cumulative_stats_copy_df"
   ]
  },
  {
   "cell_type": "markdown",
   "metadata": {},
   "source": [
    "## Do hyperparameters searches"
   ]
  },
  {
   "cell_type": "code",
   "execution_count": null,
   "metadata": {},
   "outputs": [],
   "source": [
    "from sklearn.metrics import classification_report"
   ]
  },
  {
   "cell_type": "code",
   "execution_count": null,
   "metadata": {},
   "outputs": [],
   "source": [
    "from sklearn.tree import plot_tree\n",
    "from yellowbrick.model_selection import FeatureImportances"
   ]
  },
  {
   "cell_type": "code",
   "execution_count": null,
   "metadata": {},
   "outputs": [],
   "source": [
    "from sklearn.utils.class_weight import compute_sample_weight"
   ]
  },
  {
   "cell_type": "code",
   "execution_count": null,
   "metadata": {},
   "outputs": [],
   "source": [
    "# Get best params based from CV function\n",
    "def do_cv(classifier, cv_fun, params, x, y, **kwargs):\n",
    "    clf = cv_fun(\n",
    "        classifier,\n",
    "        params,\n",
    "        scoring='accuracy', # Optimize for the 'accuracy' score of the model.\n",
    "        **kwargs,\n",
    "    )\n",
    "#     clf.fit(x, y, sample_weight=compute_sample_weight('balanced',y))\n",
    "    clf.fit(x, y)\n",
    "    return clf"
   ]
  },
  {
   "cell_type": "markdown",
   "metadata": {},
   "source": [
    "## Plot feature importances"
   ]
  },
  {
   "cell_type": "code",
   "execution_count": null,
   "metadata": {},
   "outputs": [],
   "source": [
    "def plot_feature_importances(clf, X, y):\n",
    "    viz = FeatureImportances(clf, labels=X.columns)\n",
    "    viz.fit(X, y)\n",
    "    viz.show()"
   ]
  },
  {
   "cell_type": "code",
   "execution_count": null,
   "metadata": {},
   "outputs": [],
   "source": [
    "def print_all_metrics_and_plot(clf, X_train_dict, X_test_dict, y_train_dict, y_test_dict, grid_cv_params):\n",
    "    scores = []\n",
    "    for key in X_train_dict.keys():\n",
    "        cv_clf = do_cv(\n",
    "            clf,\n",
    "#             GridSearchCV,\n",
    "            RandomizedSearchCV,\n",
    "            grid_cv_params,\n",
    "            X_train_dict[key],\n",
    "            y_train_dict[key],\n",
    "        )\n",
    "        print(key.upper()+':\\n')\n",
    "        score = cv_clf.best_estimator_.score(X_test_dict[key], y_test_dict[key])\n",
    "        scores.append(score)\n",
    "        print('Best Random Forest accuracy (%s): %.2f' % (str(cv_clf.best_params_), score))\n",
    "        print(classification_report(y_test_dict[key], cv_clf.best_estimator_.predict(X_test_dict[key])))\n",
    "        plot_feature_importances(cv_clf.best_estimator_, X_train_dict[key], y_train_dict[key])\n",
    "        print('---------------------------------------------')\n",
    "    return scores"
   ]
  },
  {
   "cell_type": "markdown",
   "metadata": {},
   "source": [
    "## Build K-folds datasets"
   ]
  },
  {
   "cell_type": "code",
   "execution_count": null,
   "metadata": {},
   "outputs": [],
   "source": [
    "from imblearn.combine import SMOTEENN"
   ]
  },
  {
   "cell_type": "code",
   "execution_count": null,
   "metadata": {},
   "outputs": [],
   "source": [
    "from sklearn.model_selection import KFold\n",
    "kf = KFold(shuffle=True, random_state=123)\n",
    "\n",
    "X_train_dicts = []\n",
    "X_test_dicts = []\n",
    "y_train_dicts = []\n",
    "y_test_dicts = []\n",
    "\n",
    "for target, key in [(winners_df, 'winner'), (greater_fgp_df, 'fgp'), (greater_fg3_df, 'fg3'), (greater_ft_df, 'ft'), (greater_ast_df, 'ast'), (greater_reb_df, 'reb')]:\n",
    "    X_over, y_over = SMOTEENN(sampling_strategy='all').fit_resample(cumulative_stats_copy_df, target)\n",
    "    for train, test in kf.split(X_over, y_over):\n",
    "        X_train_dict = {}\n",
    "        X_test_dict = {}\n",
    "        y_train_dict = {}\n",
    "        y_test_dict = {}\n",
    "        \n",
    "        X_train_dict[key], X_test_dict[key] = X_over.iloc[train], X_over.iloc[test]\n",
    "        y_train_dict[key], y_test_dict[key] = y_over.iloc[train], y_over.iloc[test]\n",
    "        \n",
    "        X_train_dicts.append(X_train_dict)\n",
    "        X_test_dicts.append(X_test_dict)\n",
    "        y_train_dicts.append(y_train_dict)\n",
    "        y_test_dicts.append(y_test_dict)\n",
    "\n",
    "assert len(X_train_dicts)==len(X_test_dicts)==len(y_train_dicts)==len(y_test_dicts)\n",
    "print(len(X_train_dicts))"
   ]
  },
  {
   "cell_type": "code",
   "execution_count": null,
   "metadata": {},
   "outputs": [],
   "source": [
    "def print_cross_validated_and_plot(X_train_dicts, X_test_dicts, y_train_dicts, y_test_dicts, params):\n",
    "    scores=[]\n",
    "    for i in range(len(X_train_dicts)):\n",
    "        print(f'i={i}')\n",
    "        score = print_all_metrics_and_plot(\n",
    "            RandomForestClassifier(random_state=0),\n",
    "            X_train_dicts[i],\n",
    "            X_test_dicts[i],\n",
    "            y_train_dicts[i],\n",
    "            y_test_dicts[i],\n",
    "            params,\n",
    "        )\n",
    "        if (i+1)%5==0:\n",
    "            scores = pd.DataFrame(np.array(scores))\n",
    "            print(f'Mean accuracy: {scores.mean()[0]}')\n",
    "            print(f'Max accuracy: {scores.max()[0]}')\n",
    "            print(f'Min accuracy: {scores.min()[0]}')\n",
    "            print('=========================================')\n",
    "            scores=[]\n",
    "        else:\n",
    "            scores += score"
   ]
  },
  {
   "cell_type": "markdown",
   "metadata": {},
   "source": [
    "## Train Random Forest Without Pruning"
   ]
  },
  {
   "cell_type": "code",
   "execution_count": null,
   "metadata": {},
   "outputs": [],
   "source": [
    "print_cross_validated_and_plot(X_train_dicts, X_test_dicts, y_train_dicts, y_test_dicts, {'criterion':['gini','entropy']})"
   ]
  },
  {
   "cell_type": "markdown",
   "metadata": {},
   "source": [
    "## Try pruning max depth"
   ]
  },
  {
   "cell_type": "code",
   "execution_count": null,
   "metadata": {},
   "outputs": [],
   "source": [
    "print_cross_validated_and_plot(X_train_dicts, X_test_dicts, y_train_dicts, y_test_dicts, {\n",
    "    'max_depth': [*range(4,1000)],\n",
    "    'criterion': ['gini', 'entropy'],\n",
    "})"
   ]
  },
  {
   "cell_type": "markdown",
   "metadata": {},
   "source": [
    "## Try prune impurity decrease"
   ]
  },
  {
   "cell_type": "code",
   "execution_count": null,
   "metadata": {},
   "outputs": [],
   "source": [
    "\n",
    "print_cross_validated_and_plot(X_train_dicts, X_test_dicts, y_train_dicts, y_test_dicts, {\n",
    "    'min_impurity_decrease': [0.0,0.05,0.1,0.15,0.2,0.25,0.3,0.35,0.4,0.45,0.5,0.55,0.6,0.65,0.7,0.75,0.8,0.85,0.9,0.95],\n",
    "    'criterion': ['gini', 'entropy'],\n",
    "})\n"
   ]
  },
  {
   "cell_type": "markdown",
   "metadata": {},
   "source": [
    "## Try prune max leaves"
   ]
  },
  {
   "cell_type": "code",
   "execution_count": null,
   "metadata": {},
   "outputs": [],
   "source": [
    "print_cross_validated_and_plot(X_train_dicts, X_test_dicts, y_train_dicts, y_test_dicts, {\n",
    "    'max_leaf_nodes': [*range(4,2000,2)],\n",
    "    'criterion': ['gini', 'entropy'],\n",
    "})"
   ]
  },
  {
   "cell_type": "markdown",
   "metadata": {},
   "source": [
    "## Try prune max features"
   ]
  },
  {
   "cell_type": "code",
   "execution_count": null,
   "metadata": {},
   "outputs": [],
   "source": [
    "print_cross_validated_and_plot(X_train_dicts, X_test_dicts, y_train_dicts, y_test_dicts, {\n",
    "    'max_features': [*range(1,len(cumulative_stats_df.columns)//2+1), 'sqrt', 'log2', None],\n",
    "    'criterion': ['gini', 'entropy'],\n",
    "})"
   ]
  },
  {
   "cell_type": "markdown",
   "metadata": {},
   "source": [
    "## Try class weight balance"
   ]
  },
  {
   "cell_type": "code",
   "execution_count": null,
   "metadata": {},
   "outputs": [],
   "source": [
    "print_cross_validated_and_plot(X_train_dicts, X_test_dicts, y_train_dicts, y_test_dicts, {\n",
    "    'class_weight': ['balanced', None],\n",
    "    'criterion': ['gini', 'entropy'],\n",
    "})"
   ]
  }
 ],
 "metadata": {
  "kernelspec": {
   "display_name": "Python 3",
   "language": "python",
   "name": "python3"
  },
  "language_info": {
   "codemirror_mode": {
    "name": "ipython",
    "version": 3
   },
   "file_extension": ".py",
   "mimetype": "text/x-python",
   "name": "python",
   "nbconvert_exporter": "python",
   "pygments_lexer": "ipython3",
   "version": "3.7.3"
  }
 },
 "nbformat": 4,
 "nbformat_minor": 4
}
